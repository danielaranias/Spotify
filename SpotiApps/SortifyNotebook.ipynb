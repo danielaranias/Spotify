{
 "cells": [
  {
   "cell_type": "code",
   "execution_count": 110,
   "metadata": {},
   "outputs": [
    {
     "name": "stdout",
     "output_type": "stream",
     "text": [
      "SpotifClient starts...\n",
      "We are connected to Spotify!!!!\n"
     ]
    }
   ],
   "source": [
    "from SortifyApp.Sortify import Sortify\n",
    "import pandas as pd\n",
    "\n",
    "SPOTIPY_CLIENT_ID = 'B4f21284ad1d4859bdd778b67981f67b'\n",
    "SPOTIPY_CLIENT_SECRET ='1155467e609e4d409adc03c14ba86742'\n",
    "SPOTIPY_REDIRECT_URI ='https://osmooza.com/callback/'\n",
    "SPOTIPY_USERNAME ='d2k6pyuiogq6ph8ap0gg596ub'\n",
    "\n",
    "\n",
    "\n",
    "def tracksToDataFrame(tracksList)-> \"dataframe\":\n",
    "    \"\"\"\n",
    "    \"\"\"\n",
    "\n",
    "    track_id = tracksList[0]['track']['id']\n",
    "    track_name = tracksList[0]['track']['name']\n",
    "    print('end')\n",
    "\n",
    "\n",
    "sp = Sortify(\n",
    "    SPOTIPY_CLIENT_ID,\n",
    "    SPOTIPY_CLIENT_SECRET,\n",
    "    SPOTIPY_REDIRECT_URI,\n",
    "    SPOTIPY_USERNAME)\n",
    "\n",
    "saved_list = sp.readSavedTracks()\n",
    "features_df = sp.tracksToDataFrame(saved_list)\n",
    "\n",
    "\n",
    "#print(features_df.head(5))\n"
   ]
  },
  {
   "cell_type": "code",
   "execution_count": null,
   "metadata": {},
   "outputs": [],
   "source": []
  },
  {
   "cell_type": "code",
   "execution_count": 111,
   "metadata": {},
   "outputs": [
    {
     "data": {
      "text/html": [
       "<div>\n",
       "<style scoped>\n",
       "    .dataframe tbody tr th:only-of-type {\n",
       "        vertical-align: middle;\n",
       "    }\n",
       "\n",
       "    .dataframe tbody tr th {\n",
       "        vertical-align: top;\n",
       "    }\n",
       "\n",
       "    .dataframe thead th {\n",
       "        text-align: right;\n",
       "    }\n",
       "</style>\n",
       "<table border=\"1\" class=\"dataframe\">\n",
       "  <thead>\n",
       "    <tr style=\"text-align: right;\">\n",
       "      <th></th>\n",
       "      <th>danceability</th>\n",
       "      <th>energy</th>\n",
       "      <th>key</th>\n",
       "      <th>loudness</th>\n",
       "      <th>mode</th>\n",
       "      <th>speechiness</th>\n",
       "      <th>acousticness</th>\n",
       "      <th>instrumentalness</th>\n",
       "      <th>liveness</th>\n",
       "      <th>valence</th>\n",
       "      <th>tempo</th>\n",
       "      <th>type</th>\n",
       "      <th>id</th>\n",
       "      <th>uri</th>\n",
       "      <th>track_href</th>\n",
       "      <th>analysis_url</th>\n",
       "      <th>duration_ms</th>\n",
       "      <th>time_signature</th>\n",
       "    </tr>\n",
       "  </thead>\n",
       "  <tbody>\n",
       "    <tr>\n",
       "      <th>0</th>\n",
       "      <td>0.591</td>\n",
       "      <td>0.6160</td>\n",
       "      <td>4</td>\n",
       "      <td>-6.270</td>\n",
       "      <td>1</td>\n",
       "      <td>0.0280</td>\n",
       "      <td>0.0455</td>\n",
       "      <td>0.0000</td>\n",
       "      <td>0.0919</td>\n",
       "      <td>0.2990</td>\n",
       "      <td>102.452</td>\n",
       "      <td>audio_features</td>\n",
       "      <td>1QHkbtLSmxMRUh43AQNMOJ</td>\n",
       "      <td>spotify:track:1QHkbtLSmxMRUh43AQNMOJ</td>\n",
       "      <td>https://api.spotify.com/v1/tracks/1QHkbtLSmxMR...</td>\n",
       "      <td>https://api.spotify.com/v1/audio-analysis/1QHk...</td>\n",
       "      <td>303040</td>\n",
       "      <td>4</td>\n",
       "    </tr>\n",
       "    <tr>\n",
       "      <th>1</th>\n",
       "      <td>0.173</td>\n",
       "      <td>0.0185</td>\n",
       "      <td>2</td>\n",
       "      <td>-36.582</td>\n",
       "      <td>0</td>\n",
       "      <td>0.0403</td>\n",
       "      <td>0.9650</td>\n",
       "      <td>0.9050</td>\n",
       "      <td>0.1000</td>\n",
       "      <td>0.0642</td>\n",
       "      <td>138.268</td>\n",
       "      <td>audio_features</td>\n",
       "      <td>4BOCx4hnSq0xWO3lcEbibQ</td>\n",
       "      <td>spotify:track:4BOCx4hnSq0xWO3lcEbibQ</td>\n",
       "      <td>https://api.spotify.com/v1/tracks/4BOCx4hnSq0x...</td>\n",
       "      <td>https://api.spotify.com/v1/audio-analysis/4BOC...</td>\n",
       "      <td>249818</td>\n",
       "      <td>4</td>\n",
       "    </tr>\n",
       "    <tr>\n",
       "      <th>2</th>\n",
       "      <td>0.353</td>\n",
       "      <td>0.0327</td>\n",
       "      <td>7</td>\n",
       "      <td>-21.402</td>\n",
       "      <td>1</td>\n",
       "      <td>0.0356</td>\n",
       "      <td>0.8100</td>\n",
       "      <td>0.0528</td>\n",
       "      <td>0.6110</td>\n",
       "      <td>0.1150</td>\n",
       "      <td>135.467</td>\n",
       "      <td>audio_features</td>\n",
       "      <td>1BQXjCSy4iwjC5wJSqKVIt</td>\n",
       "      <td>spotify:track:1BQXjCSy4iwjC5wJSqKVIt</td>\n",
       "      <td>https://api.spotify.com/v1/tracks/1BQXjCSy4iwj...</td>\n",
       "      <td>https://api.spotify.com/v1/audio-analysis/1BQX...</td>\n",
       "      <td>375892</td>\n",
       "      <td>4</td>\n",
       "    </tr>\n",
       "  </tbody>\n",
       "</table>\n",
       "</div>"
      ],
      "text/plain": [
       "   danceability  energy  key  loudness  mode  speechiness  acousticness  \\\n",
       "0         0.591  0.6160    4    -6.270     1       0.0280        0.0455   \n",
       "1         0.173  0.0185    2   -36.582     0       0.0403        0.9650   \n",
       "2         0.353  0.0327    7   -21.402     1       0.0356        0.8100   \n",
       "\n",
       "   instrumentalness  liveness  valence    tempo            type  \\\n",
       "0            0.0000    0.0919   0.2990  102.452  audio_features   \n",
       "1            0.9050    0.1000   0.0642  138.268  audio_features   \n",
       "2            0.0528    0.6110   0.1150  135.467  audio_features   \n",
       "\n",
       "                       id                                   uri  \\\n",
       "0  1QHkbtLSmxMRUh43AQNMOJ  spotify:track:1QHkbtLSmxMRUh43AQNMOJ   \n",
       "1  4BOCx4hnSq0xWO3lcEbibQ  spotify:track:4BOCx4hnSq0xWO3lcEbibQ   \n",
       "2  1BQXjCSy4iwjC5wJSqKVIt  spotify:track:1BQXjCSy4iwjC5wJSqKVIt   \n",
       "\n",
       "                                          track_href  \\\n",
       "0  https://api.spotify.com/v1/tracks/1QHkbtLSmxMR...   \n",
       "1  https://api.spotify.com/v1/tracks/4BOCx4hnSq0x...   \n",
       "2  https://api.spotify.com/v1/tracks/1BQXjCSy4iwj...   \n",
       "\n",
       "                                        analysis_url  duration_ms  \\\n",
       "0  https://api.spotify.com/v1/audio-analysis/1QHk...       303040   \n",
       "1  https://api.spotify.com/v1/audio-analysis/4BOC...       249818   \n",
       "2  https://api.spotify.com/v1/audio-analysis/1BQX...       375892   \n",
       "\n",
       "   time_signature  \n",
       "0               4  \n",
       "1               4  \n",
       "2               4  "
      ]
     },
     "execution_count": 111,
     "metadata": {},
     "output_type": "execute_result"
    }
   ],
   "source": [
    "features_df.head(3)\n"
   ]
  },
  {
   "cell_type": "code",
   "execution_count": null,
   "metadata": {},
   "outputs": [],
   "source": []
  },
  {
   "cell_type": "code",
   "execution_count": null,
   "metadata": {},
   "outputs": [],
   "source": []
  },
  {
   "cell_type": "code",
   "execution_count": null,
   "metadata": {},
   "outputs": [],
   "source": []
  },
  {
   "cell_type": "code",
   "execution_count": 112,
   "metadata": {},
   "outputs": [
    {
     "name": "stdout",
     "output_type": "stream",
     "text": [
      "['danceability' 'energy' 'key' 'loudness' 'mode' 'speechiness'\n",
      " 'acousticness' 'instrumentalness' 'liveness' 'valence' 'tempo' 'type'\n",
      " 'id' 'uri' 'track_href' 'analysis_url' 'duration_ms' 'time_signature']\n"
     ]
    }
   ],
   "source": [
    "print(features_df.columns.values)\n"
   ]
  },
  {
   "cell_type": "code",
   "execution_count": 1,
   "metadata": {},
   "outputs": [
    {
     "ename": "NameError",
     "evalue": "name 'features_df' is not defined",
     "output_type": "error",
     "traceback": [
      "\u001b[0;31m---------------------------------------------------------------------------\u001b[0m",
      "\u001b[0;31mNameError\u001b[0m                                 Traceback (most recent call last)",
      "\u001b[0;32m<ipython-input-1-030074116e9b>\u001b[0m in \u001b[0;36m<module>\u001b[0;34m\u001b[0m\n\u001b[0;32m----> 1\u001b[0;31m \u001b[0mdf\u001b[0m \u001b[0;34m=\u001b[0m \u001b[0mfeatures_df\u001b[0m\u001b[0;34m.\u001b[0m\u001b[0mdrop\u001b[0m\u001b[0;34m(\u001b[0m\u001b[0mcolumns\u001b[0m\u001b[0;34m=\u001b[0m\u001b[0;34m[\u001b[0m\u001b[0;34m'type'\u001b[0m\u001b[0;34m,\u001b[0m \u001b[0;34m'uri'\u001b[0m\u001b[0;34m,\u001b[0m\u001b[0;34m'track_href'\u001b[0m\u001b[0;34m,\u001b[0m\u001b[0;34m'analysis_url'\u001b[0m\u001b[0;34m,\u001b[0m\u001b[0;34m'duration_ms'\u001b[0m\u001b[0;34m,\u001b[0m\u001b[0;34m'time_signature'\u001b[0m\u001b[0;34m]\u001b[0m\u001b[0;34m,\u001b[0m\u001b[0maxis\u001b[0m \u001b[0;34m=\u001b[0m \u001b[0;36m0\u001b[0m\u001b[0;34m)\u001b[0m\u001b[0;34m\u001b[0m\u001b[0;34m\u001b[0m\u001b[0m\n\u001b[0m\u001b[1;32m      2\u001b[0m \u001b[0;34m\u001b[0m\u001b[0m\n",
      "\u001b[0;31mNameError\u001b[0m: name 'features_df' is not defined"
     ]
    }
   ],
   "source": [
    "df = features_df.drop(columns=['type', 'uri','track_href','analysis_url','duration_ms','time_signature'],axis = 0)\n",
    "\n"
   ]
  },
  {
   "cell_type": "code",
   "execution_count": null,
   "metadata": {},
   "outputs": [],
   "source": []
  },
  {
   "cell_type": "raw",
   "metadata": {},
   "source": []
  },
  {
   "cell_type": "code",
   "execution_count": null,
   "metadata": {},
   "outputs": [],
   "source": []
  },
  {
   "cell_type": "code",
   "execution_count": null,
   "metadata": {},
   "outputs": [],
   "source": []
  },
  {
   "cell_type": "code",
   "execution_count": null,
   "metadata": {},
   "outputs": [],
   "source": []
  },
  {
   "cell_type": "code",
   "execution_count": null,
   "metadata": {},
   "outputs": [],
   "source": []
  }
 ],
 "metadata": {
  "kernelspec": {
   "display_name": "Python 3",
   "language": "python",
   "name": "python3"
  },
  "language_info": {
   "codemirror_mode": {
    "name": "ipython",
    "version": 3
   },
   "file_extension": ".py",
   "mimetype": "text/x-python",
   "name": "python",
   "nbconvert_exporter": "python",
   "pygments_lexer": "ipython3",
   "version": "3.8.1"
  }
 },
 "nbformat": 4,
 "nbformat_minor": 4
}
